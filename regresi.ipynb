{
 "cells": [
  {
   "cell_type": "markdown",
   "id": "9e069e6a",
   "metadata": {},
   "source": [
    "<div style=\"font-family:Bradley Hand ITC; font-size: 25px; border-radius: 5px; padding: 2px; line-height: 2.0; color: #ff0000ff; text-align: center;\">NIM: 240907501033</div>\n",
    "<div style=\"font-family: Algerian; font-size:20px; border-radius: 5px;padding: 2px; line-height: 2.0; color: #956666ff; text-align: center;\">Nama: Kania Salsabila Haflin</div>"
   ]
  },
  {
   "cell_type": "markdown",
   "id": "320b1894",
   "metadata": {},
   "source": [
    "<div style=\"font-family: Forte; font-size: 20px; border-radius: 5px;padding: 2px; line-height: 2.0; color: #ee51a7ff; text-align: center;\">~~REGRESI DENGAN DATA RANDOM~~</div>"
   ]
  },
  {
   "cell_type": "code",
   "execution_count": 36,
   "id": "ef04bd3f",
   "metadata": {},
   "outputs": [
    {
     "data": {
      "text/html": [
       "<div>\n",
       "<style scoped>\n",
       "    .dataframe tbody tr th:only-of-type {\n",
       "        vertical-align: middle;\n",
       "    }\n",
       "\n",
       "    .dataframe tbody tr th {\n",
       "        vertical-align: top;\n",
       "    }\n",
       "\n",
       "    .dataframe thead th {\n",
       "        text-align: right;\n",
       "    }\n",
       "</style>\n",
       "<table border=\"1\" class=\"dataframe\">\n",
       "  <thead>\n",
       "    <tr style=\"text-align: right;\">\n",
       "      <th></th>\n",
       "      <th>Saya</th>\n",
       "      <th>Cinta</th>\n",
       "      <th>Indonesia</th>\n",
       "    </tr>\n",
       "  </thead>\n",
       "  <tbody>\n",
       "    <tr>\n",
       "      <th>0</th>\n",
       "      <td>104.167847</td>\n",
       "      <td>8.616849</td>\n",
       "      <td>46.867203</td>\n",
       "    </tr>\n",
       "    <tr>\n",
       "      <th>1</th>\n",
       "      <td>24.789150</td>\n",
       "      <td>11.847759</td>\n",
       "      <td>26.284504</td>\n",
       "    </tr>\n",
       "    <tr>\n",
       "      <th>2</th>\n",
       "      <td>58.462551</td>\n",
       "      <td>11.770485</td>\n",
       "      <td>36.309250</td>\n",
       "    </tr>\n",
       "    <tr>\n",
       "      <th>3</th>\n",
       "      <td>131.919984</td>\n",
       "      <td>9.530603</td>\n",
       "      <td>56.106599</td>\n",
       "    </tr>\n",
       "    <tr>\n",
       "      <th>4</th>\n",
       "      <td>110.191875</td>\n",
       "      <td>11.673123</td>\n",
       "      <td>51.730686</td>\n",
       "    </tr>\n",
       "  </tbody>\n",
       "</table>\n",
       "</div>"
      ],
      "text/plain": [
       "         Saya      Cinta  Indonesia\n",
       "0  104.167847   8.616849  46.867203\n",
       "1   24.789150  11.847759  26.284504\n",
       "2   58.462551  11.770485  36.309250\n",
       "3  131.919984   9.530603  56.106599\n",
       "4  110.191875  11.673123  51.730686"
      ]
     },
     "execution_count": 36,
     "metadata": {},
     "output_type": "execute_result"
    }
   ],
   "source": [
    "import pandas as pd \n",
    "import numpy as np \n",
    "from matplotlib import pyplot as pyplot\n",
    "\n",
    "np.random.seed(0)\n",
    "X = 58.2 * np.random.randn(100) + 1.5\n",
    "Y = 10.5 - np.random.randn(100)\n",
    "Z = 7 + 0.3 * X + Y\n",
    "\n",
    "df = pd.DataFrame(\n",
    "    {'Saya': X,\n",
    "     'Cinta': Y,\n",
    "    'Indonesia': Z}\n",
    ")\n",
    "\n",
    "df.head()"
   ]
  },
  {
   "cell_type": "markdown",
   "id": "78055af9",
   "metadata": {},
   "source": [
    "<div style=\"font-family: Comoc Sans MS; font-size: 30px; border-radius: 5px;padding: 2px; line-height: 2.0; color: #a82d71ff; text-align: center;\">~~REGRESI SEDERHANA~~</div>"
   ]
  },
  {
   "cell_type": "code",
   "execution_count": 37,
   "id": "37237b0f",
   "metadata": {},
   "outputs": [
    {
     "name": "stdout",
     "output_type": "stream",
     "text": [
      "alpha = 10.427803060141978\n",
      "beta = -0.0019707634629962402\n"
     ]
    },
    {
     "data": {
      "image/png": "[encoded data removed]",
      "text/plain": [
       "<Figure size 1200x600 with 1 Axes>"
      ]
     },
     "metadata": {},
     "output_type": "display_data"
    }
   ],
   "source": [
    "import matplotlib.pyplot as plt\n",
    "import numpy as np\n",
    "import pandas as pd\n",
    "\n",
    "xmean = np.mean(X)\n",
    "ymean = np.mean(Y)\n",
    "\n",
    "df['xycov'] = (df['Saya'] - xmean) * (df['Cinta'] - ymean)\n",
    "df['xvar'] = (df['Saya'] - xmean)**2\n",
    "\n",
    "beta = df['xycov'].sum() / df['xvar'].sum()\n",
    "alpha = ymean - (beta*xmean)\n",
    "print(f'alpha = {alpha}')\n",
    "print(f'beta = {beta}')\n",
    "\n",
    "ypred = alpha + beta * X\n",
    "\n",
    "plt.figure(figsize=(12, 6))\n",
    "plt.plot(X, ypred)\n",
    "plt.plot(X, Y, 'ro')\n",
    "plt.title('Aktual VS Prediksi')\n",
    "plt.xlabel('X')\n",
    "plt.ylabel('Y')\n",
    "\n",
    "plt.show()"
   ]
  },
  {
   "cell_type": "markdown",
   "id": "64bbd339",
   "metadata": {},
   "source": [
    "<div style=\"font-family: Playbill; font-size: 30px; border-radius: 5px;padding: 2px; line-height: 2.0; color: #cd6ea2ff; text-align: center;\">~~REGRESI & PLOT 3D~~</div>"
   ]
  },
  {
   "cell_type": "code",
   "execution_count": 38,
   "id": "9ed68cd4",
   "metadata": {},
   "outputs": [
    {
     "name": "stderr",
     "output_type": "stream",
     "text": [
      "C:\\Users\\lenovo\\AppData\\Local\\Temp\\ipykernel_13304\\2731375318.py:37: FutureWarning:\n",
      "\n",
      "Series.__getitem__ treating keys as positions is deprecated. In a future version, integer keys will always be treated as labels (consistent with DataFrame behavior). To access a value by position, use `ser.iloc[pos]`\n",
      "\n"
     ]
    },
    {
     "data": {
      "application/vnd.plotly.v1+json": {
       "config": {
        "plotlyServerURL": "https://plot.ly"
       },
       "data": [
        {
         "marker": {
          "color": "yellow",
          "opacity": 0.8,
          "size": 5
         },
         "mode": "markers",
         "name": "Data",
         "type": "scatter3d",
         "x": {
          "bdata": "MAAAADAAAAA4AAAAOAAAAD8AAAAXAAAAIgAAAA0AAABAAAAAHAAAADkAAAAOAAAANAAAABIAAABCAAAADAAAADwAAAA4AAAALgAAAB0AAAAdAAAAPwAAAD8AAAAxAAAAFwAAABsAAAARAAAAJgAAADkAAAA4AAAA",
          "dtype": "i4"
         },
         "y": {
          "bdata": "TwAAAE0AAAAaAAAAHgAAACYAAAAcAAAAQQAAADAAAABGAAAAKwAAAEkAAABIAAAAOwAAADQAAABIAAAANgAAABgAAAAwAAAAPgAAADYAAAAzAAAAJQAAADcAAAAoAAAARQAAAFQAAAApAAAAIgAAAC0AAABAAAAA",
          "dtype": "i4"
         },
         "z": {
          "bdata": "jJWZweTbhkD02wXWivOGQIUaa1cIVHlAUGhm9qFae0AEEtzHQQx+QHqVESjdMnJAGuBudKPMhUDuS0hU7257QCMhd//lBIdA/LclRA+NekAlobHFuZGGQG7gO2UhQIRAmD+MiCeFgUAzFn3/I6V7QKSIUeJcUIpAtp41tdMQfkCgfQfru4x1QF5d+ElCUYBA517b1iLHg0BcOtZZKluBQI0Bypg5NoBAjjXQ6X5FfEBU1Zr4GtKDQDe8g70nKX1AVlrKSZPmg0Bqvl2hrqiIQB8H85s1O3pA0UBun+jIdkAYyTpaC56AQOCGluyuNIVA",
          "dtype": "f8"
         }
        },
        {
         "colorscale": [
          [
           0,
           "rgb(247,251,255)"
          ],
          [
           0.125,
           "rgb(222,235,247)"
          ],
          [
           0.25,
           "rgb(198,219,239)"
          ],
          [
           0.375,
           "rgb(158,202,225)"
          ],
          [
           0.5,
           "rgb(107,174,214)"
          ],
          [
           0.625,
           "rgb(66,146,198)"
          ],
          [
           0.75,
           "rgb(33,113,181)"
          ],
          [
           0.875,
           "rgb(8,81,156)"
          ],
          [
           1,
           "rgb(8,48,107)"
          ]
         ],
         "name": "Garis Regresi",
         "opacity": 0.5,
         "type": "surface",
         "x": {
          "bdata": "AAAAAAAAAEAAAAAAAAAQQAAAAAAAABhAAAAAAAAAIEAAAAAAAAAkQAAAAAAAAChAAAAAAAAALEAAAAAAAAAwQAAAAAAAADJAAAAAAAAANEAAAAAAAAAAQAAAAAAAABBAAAAAAAAAGEAAAAAAAAAgQAAAAAAAACRAAAAAAAAAKEAAAAAAAAAsQAAAAAAAADBAAAAAAAAAMkAAAAAAAAA0QAAAAAAAAABAAAAAAAAAEEAAAAAAAAAYQAAAAAAAACBAAAAAAAAAJEAAAAAAAAAoQAAAAAAAACxAAAAAAAAAMEAAAAAAAAAyQAAAAAAAADRAAAAAAAAAAEAAAAAAAAAQQAAAAAAAABhAAAAAAAAAIEAAAAAAAAAkQAAAAAAAAChAAAAAAAAALEAAAAAAAAAwQAAAAAAAADJAAAAAAAAANEAAAAAAAAAAQAAAAAAAABBAAAAAAAAAGEAAAAAAAAAgQAAAAAAAACRAAAAAAAAAKEAAAAAAAAAsQAAAAAAAADBAAAAAAAAAMkAAAAAAAAA0QAAAAAAAAABAAAAAAAAAEEAAAAAAAAAYQAAAAAAAACBAAAAAAAAAJEAAAAAAAAAoQAAAAAAAACxAAAAAAAAAMEAAAAAAAAAyQAAAAAAAADRAAAAAAAAAAEAAAAAAAAAQQAAAAAAAABhAAAAAAAAAIEAAAAAAAAAkQAAAAAAAAChAAAAAAAAALEAAAAAAAAAwQAAAAAAAADJAAAAAAAAANEAAAAAAAAAAQAAAAAAAABBAAAAAAAAAGEAAAAAAAAAgQAAAAAAAACRAAAAAAAAAKEAAAAAAAAAsQAAAAAAAADBAAAAAAAAAMkAAAAAAAAA0QAAAAAAAAABAAAAAAAAAEEAAAAAAAAAYQAAAAAAAACBAAAAAAAAAJEAAAAAAAAAoQAAAAAAAACxAAAAAAAAAMEAAAAAAAAAyQAAAAAAAADRAAAAAAAAAAEAAAAAAAAAQQAAAAAAAABhAAAAAAAAAIEAAAAAAAAAkQAAAAAAAAChAAAAAAAAALEAAAAAAAAAwQAAAAAAAADJAAAAAAAAANEA=",
          "dtype": "f8",
          "shape": "10, 10"
         },
         "y": {
          "bdata": "AAAAAAAAFEAAAAAAAAAUQAAAAAAAABRAAAAAAAAAFEAAAAAAAAAUQAAAAAAAABRAAAAAAAAAFEAAAAAAAAAUQAAAAAAAABRAAAAAAAAAFEA5juM4juMcQDmO4ziO4xxAOY7jOI7jHEA5juM4juMcQDmO4ziO4xxAOY7jOI7jHEA5juM4juMcQDmO4ziO4xxAOY7jOI7jHEA5juM4juMcQDmO4ziO4yJAOY7jOI7jIkA5juM4juMiQDmO4ziO4yJAOY7jOI7jIkA5juM4juMiQDmO4ziO4yJAOY7jOI7jIkA5juM4juMiQDmO4ziO4yJAVlVVVVVVJ0BWVVVVVVUnQFZVVVVVVSdAVlVVVVVVJ0BWVVVVVVUnQFZVVVVVVSdAVlVVVVVVJ0BWVVVVVVUnQFZVVVVVVSdAVlVVVVVVJ0ByHMdxHMcrQHIcx3EcxytAchzHcRzHK0ByHMdxHMcrQHIcx3EcxytAchzHcRzHK0ByHMdxHMcrQHIcx3EcxytAchzHcRzHK0ByHMdxHMcrQMdxHMdxHDBAx3Ecx3EcMEDHcRzHcRwwQMdxHMdxHDBAx3Ecx3EcMEDHcRzHcRwwQMdxHMdxHDBAx3Ecx3EcMEDHcRzHcRwwQMdxHMdxHDBAVlVVVVVVMkBWVVVVVVUyQFZVVVVVVTJAVlVVVVVVMkBWVVVVVVUyQFZVVVVVVTJAVlVVVVVVMkBWVVVVVVUyQFZVVVVVVTJAVlVVVVVVMkDkOI7jOI40QOQ4juM4jjRA5DiO4ziONEDkOI7jOI40QOQ4juM4jjRA5DiO4ziONEDkOI7jOI40QOQ4juM4jjRA5DiO4ziONEDkOI7jOI40QHIcx3EcxzZAchzHcRzHNkByHMdxHMc2QHIcx3EcxzZAchzHcRzHNkByHMdxHMc2QHIcx3EcxzZAchzHcRzHNkByHMdxHMc2QHIcx3EcxzZAAAAAAAAAOUAAAAAAAAA5QAAAAAAAADlAAAAAAAAAOUAAAAAAAAA5QAAAAAAAADlAAAAAAAAAOUAAAAAAAAA5QAAAAAAAADlAAAAAAAAAOUA=",
          "dtype": "f8",
          "shape": "10, 10"
         },
         "z": {
          "bdata": "VBdXYw2lUEAHOb+6mN1RQLpaJxIkFlNAbHyPaa9OVEAgnvfAOodVQNK/XxjGv1ZAhOHHb1H4V0A4AzDH3DBZQOokmB5oaVpAnkYAdvOhW0AI7nzPvCNVQLoP5SZIXFZAbTFNftOUV0AgU7XVXs1YQNN0HS3qBVpAhpaFhHU+W0A4uO3bAHdcQOvZVTOMr11Anvu9ihfoXkCoDhNxURBgQLvEojtsollAbuYKk/faWkAgCHPqghNcQNMp20EOTF1AhktDmZmEXkA4bavwJL1fQHbHCSTYemBAT9i9zx0XYUAo6XF7Y7NhQAL6JSepT2JAb5vIpxshXkAivTD/pllfQGpvTCsZSWBARIAA117lYEAdkbSCpIFhQPahaC7qHWJA0LIc2i+6YkCpw9CFdVZjQILUhDG78mNAXOU43QCPZEAROfeJ5U9hQOpJqzUr7GFAxFpf4XCIYkCdaxONtiRjQHZ8xzj8wGNAUI175EFdZEApni+Qh/lkQAKv4zvNlWVA3L+X5xIyZkC20EuTWM5mQGokCkA9j2NARDW+64IrZEAdRnKXyMdkQPZWJkMOZGVA0Gfa7lMAZkCpeI6amZxmQIKJQkbfOGdAXJr28STVZ0A2q6qdanFoQA+8XkmwDWlAxA8d9pTOZUCeINGh2mpmQHcxhU0gB2dAUEI5+WWjZ0AqU+2kqz9oQANkoVDx22hA3HRV/DZ4aUC2hQmofBRqQJCWvVPCsGpAaadx/wdNa0Ae+y+s7A1oQPgL5FcyqmhA0RyYA3hGaUCqLUyvveJpQIQ+AFsDf2pAXU+0Bkkba0A2YGiyjrdrQBBxHF7UU2xA6oHQCRrwbEDDkoS1X4xtQHfmQmJETWpAUff2DYrpakAqCKu5z4VrQAQZX2UVImxA3SkTEVu+bEC2Ose8oFptQJBLe2jm9m1AaVwvFCyTbkBCbeO/cS9vQBx+l2u3y29A0dFVGJyMbECr4gnE4ShtQITzvW8nxW1AXgRyG21hbkA3FSbHsv1uQBAm2nL4mW9AdRtHDx8bcEDiIyHlQWlwQE4s+7pkt3BAuzTVkIcFcUA=",
          "dtype": "f8",
          "shape": "10, 10"
         }
        }
       ],
       "layout": {
        "scene": {
         "xaxis": {
          "title": {
           "text": "X1"
          }
         },
         "yaxis": {
          "title": {
           "text": "X2"
          }
         },
         "zaxis": {
          "title": {
           "text": "B"
          }
         }
        },
        "showlegend": true,
        "template": {
         "data": {
          "bar": [
           {
            "error_x": {
             "color": "#2a3f5f"
            },
            "error_y": {
             "color": "#2a3f5f"
            },
            "marker": {
             "line": {
              "color": "#E5ECF6",
              "width": 0.5
             },
             "pattern": {
              "fillmode": "overlay",
              "size": 10,
              "solidity": 0.2
             }
            },
            "type": "bar"
           }
          ],
          "barpolar": [
           {
            "marker": {
             "line": {
              "color": "#E5ECF6",
              "width": 0.5
             },
             "pattern": {
              "fillmode": "overlay",
              "size": 10,
              "solidity": 0.2
             }
            },
            "type": "barpolar"
           }
          ],
          "carpet": [
           {
            "aaxis": {
             "endlinecolor": "#2a3f5f",
             "gridcolor": "white",
             "linecolor": "white",
             "minorgridcolor": "white",
             "startlinecolor": "#2a3f5f"
            },
            "baxis": {
             "endlinecolor": "#2a3f5f",
             "gridcolor": "white",
             "linecolor": "white",
             "minorgridcolor": "white",
             "startlinecolor": "#2a3f5f"
            },
            "type": "carpet"
           }
          ],
          "choropleth": [
           {
            "colorbar": {
             "outlinewidth": 0,
             "ticks": ""
            },
            "type": "choropleth"
           }
          ],
          "contour": [
           {
            "colorbar": {
             "outlinewidth": 0,
             "ticks": ""
            },
            "colorscale": [
             [
              0,
              "#0d0887"
             ],
             [
              0.1111111111111111,
              "#46039f"
             ],
             [
              0.2222222222222222,
              "#7201a8"
             ],
             [
              0.3333333333333333,
              "#9c179e"
             ],
             [
              0.4444444444444444,
              "#bd3786"
             ],
             [
              0.5555555555555556,
              "#d8576b"
             ],
             [
              0.6666666666666666,
              "#ed7953"
             ],
             [
              0.7777777777777778,
              "#fb9f3a"
             ],
             [
              0.8888888888888888,
              "#fdca26"
             ],
             [
              1,
              "#f0f921"
             ]
            ],
            "type": "contour"
           }
          ],
          "contourcarpet": [
           {
            "colorbar": {
             "outlinewidth": 0,
             "ticks": ""
            },
            "type": "contourcarpet"
           }
          ],
          "heatmap": [
           {
            "colorbar": {
             "outlinewidth": 0,
             "ticks": ""
            },
            "colorscale": [
             [
              0,
              "#0d0887"
             ],
             [
              0.1111111111111111,
              "#46039f"
             ],
             [
              0.2222222222222222,
              "#7201a8"
             ],
             [
              0.3333333333333333,
              "#9c179e"
             ],
             [
              0.4444444444444444,
              "#bd3786"
             ],
             [
              0.5555555555555556,
              "#d8576b"
             ],
             [
              0.6666666666666666,
              "#ed7953"
             ],
             [
              0.7777777777777778,
              "#fb9f3a"
             ],
             [
              0.8888888888888888,
              "#fdca26"
             ],
             [
              1,
              "#f0f921"
             ]
            ],
            "type": "heatmap"
           }
          ],
          "histogram": [
           {
            "marker": {
             "pattern": {
              "fillmode": "overlay",
              "size": 10,
              "solidity": 0.2
             }
            },
            "type": "histogram"
           }
          ],
          "histogram2d": [
           {
            "colorbar": {
             "outlinewidth": 0,
             "ticks": ""
            },
            "colorscale": [
             [
              0,
              "#0d0887"
             ],
             [
              0.1111111111111111,
              "#46039f"
             ],
             [
              0.2222222222222222,
              "#7201a8"
             ],
             [
              0.3333333333333333,
              "#9c179e"
             ],
             [
              0.4444444444444444,
              "#bd3786"
             ],
             [
              0.5555555555555556,
              "#d8576b"
             ],
             [
              0.6666666666666666,
              "#ed7953"
             ],
             [
              0.7777777777777778,
              "#fb9f3a"
             ],
             [
              0.8888888888888888,
              "#fdca26"
             ],
             [
              1,
              "#f0f921"
             ]
            ],
            "type": "histogram2d"
           }
          ],
          "histogram2dcontour": [
           {
            "colorbar": {
             "outlinewidth": 0,
             "ticks": ""
            },
            "colorscale": [
             [
              0,
              "#0d0887"
             ],
             [
              0.1111111111111111,
              "#46039f"
             ],
             [
              0.2222222222222222,
              "#7201a8"
             ],
             [
              0.3333333333333333,
              "#9c179e"
             ],
             [
              0.4444444444444444,
              "#bd3786"
             ],
             [
              0.5555555555555556,
              "#d8576b"
             ],
             [
              0.6666666666666666,
              "#ed7953"
             ],
             [
              0.7777777777777778,
              "#fb9f3a"
             ],
             [
              0.8888888888888888,
              "#fdca26"
             ],
             [
              1,
              "#f0f921"
             ]
            ],
            "type": "histogram2dcontour"
           }
          ],
          "mesh3d": [
           {
            "colorbar": {
             "outlinewidth": 0,
             "ticks": ""
            },
            "type": "mesh3d"
           }
          ],
          "parcoords": [
           {
            "line": {
             "colorbar": {
              "outlinewidth": 0,
              "ticks": ""
             }
            },
            "type": "parcoords"
           }
          ],
          "pie": [
           {
            "automargin": true,
            "type": "pie"
           }
          ],
          "scatter": [
           {
            "fillpattern": {
             "fillmode": "overlay",
             "size": 10,
             "solidity": 0.2
            },
            "type": "scatter"
           }
          ],
          "scatter3d": [
           {
            "line": {
             "colorbar": {
              "outlinewidth": 0,
              "ticks": ""
             }
            },
            "marker": {
             "colorbar": {
              "outlinewidth": 0,
              "ticks": ""
             }
            },
            "type": "scatter3d"
           }
          ],
          "scattercarpet": [
           {
            "marker": {
             "colorbar": {
              "outlinewidth": 0,
              "ticks": ""
             }
            },
            "type": "scattercarpet"
           }
          ],
          "scattergeo": [
           {
            "marker": {
             "colorbar": {
              "outlinewidth": 0,
              "ticks": ""
             }
            },
            "type": "scattergeo"
           }
          ],
          "scattergl": [
           {
            "marker": {
             "colorbar": {
              "outlinewidth": 0,
              "ticks": ""
             }
            },
            "type": "scattergl"
           }
          ],
          "scattermap": [
           {
            "marker": {
             "colorbar": {
              "outlinewidth": 0,
              "ticks": ""
             }
            },
            "type": "scattermap"
           }
          ],
          "scattermapbox": [
           {
            "marker": {
             "colorbar": {
              "outlinewidth": 0,
              "ticks": ""
             }
            },
            "type": "scattermapbox"
           }
          ],
          "scatterpolar": [
           {
            "marker": {
             "colorbar": {
              "outlinewidth": 0,
              "ticks": ""
             }
            },
            "type": "scatterpolar"
           }
          ],
          "scatterpolargl": [
           {
            "marker": {
             "colorbar": {
              "outlinewidth": 0,
              "ticks": ""
             }
            },
            "type": "scatterpolargl"
           }
          ],
          "scatterternary": [
           {
            "marker": {
             "colorbar": {
              "outlinewidth": 0,
              "ticks": ""
             }
            },
            "type": "scatterternary"
           }
          ],
          "surface": [
           {
            "colorbar": {
             "outlinewidth": 0,
             "ticks": ""
            },
            "colorscale": [
             [
              0,
              "#0d0887"
             ],
             [
              0.1111111111111111,
              "#46039f"
             ],
             [
              0.2222222222222222,
              "#7201a8"
             ],
             [
              0.3333333333333333,
              "#9c179e"
             ],
             [
              0.4444444444444444,
              "#bd3786"
             ],
             [
              0.5555555555555556,
              "#d8576b"
             ],
             [
              0.6666666666666666,
              "#ed7953"
             ],
             [
              0.7777777777777778,
              "#fb9f3a"
             ],
             [
              0.8888888888888888,
              "#fdca26"
             ],
             [
              1,
              "#f0f921"
             ]
            ],
            "type": "surface"
           }
          ],
          "table": [
           {
            "cells": {
             "fill": {
              "color": "#EBF0F8"
             },
             "line": {
              "color": "white"
             }
            },
            "header": {
             "fill": {
              "color": "#C8D4E3"
             },
             "line": {
              "color": "white"
             }
            },
            "type": "table"
           }
          ]
         },
         "layout": {
          "annotationdefaults": {
           "arrowcolor": "#2a3f5f",
           "arrowhead": 0,
           "arrowwidth": 1
          },
          "autotypenumbers": "strict",
          "coloraxis": {
           "colorbar": {
            "outlinewidth": 0,
            "ticks": ""
           }
          },
          "colorscale": {
           "diverging": [
            [
             0,
             "#8e0152"
            ],
            [
             0.1,
             "#c51b7d"
            ],
            [
             0.2,
             "#de77ae"
            ],
            [
             0.3,
             "#f1b6da"
            ],
            [
             0.4,
             "#fde0ef"
            ],
            [
             0.5,
             "#f7f7f7"
            ],
            [
             0.6,
             "#e6f5d0"
            ],
            [
             0.7,
             "#b8e186"
            ],
            [
             0.8,
             "#7fbc41"
            ],
            [
             0.9,
             "#4d9221"
            ],
            [
             1,
             "#276419"
            ]
           ],
           "sequential": [
            [
             0,
             "#0d0887"
            ],
            [
             0.1111111111111111,
             "#46039f"
            ],
            [
             0.2222222222222222,
             "#7201a8"
            ],
            [
             0.3333333333333333,
             "#9c179e"
            ],
            [
             0.4444444444444444,
             "#bd3786"
            ],
            [
             0.5555555555555556,
             "#d8576b"
            ],
            [
             0.6666666666666666,
             "#ed7953"
            ],
            [
             0.7777777777777778,
             "#fb9f3a"
            ],
            [
             0.8888888888888888,
             "#fdca26"
            ],
            [
             1,
             "#f0f921"
            ]
           ],
           "sequentialminus": [
            [
             0,
             "#0d0887"
            ],
            [
             0.1111111111111111,
             "#46039f"
            ],
            [
             0.2222222222222222,
             "#7201a8"
            ],
            [
             0.3333333333333333,
             "#9c179e"
            ],
            [
             0.4444444444444444,
             "#bd3786"
            ],
            [
             0.5555555555555556,
             "#d8576b"
            ],
            [
             0.6666666666666666,
             "#ed7953"
            ],
            [
             0.7777777777777778,
             "#fb9f3a"
            ],
            [
             0.8888888888888888,
             "#fdca26"
            ],
            [
             1,
             "#f0f921"
            ]
           ]
          },
          "colorway": [
           "#636efa",
           "#EF553B",
           "#00cc96",
           "#ab63fa",
           "#FFA15A",
           "#19d3f3",
           "#FF6692",
           "#B6E880",
           "#FF97FF",
           "#FECB52"
          ],
          "font": {
           "color": "#2a3f5f"
          },
          "geo": {
           "bgcolor": "white",
           "lakecolor": "white",
           "landcolor": "#E5ECF6",
           "showlakes": true,
           "showland": true,
           "subunitcolor": "white"
          },
          "hoverlabel": {
           "align": "left"
          },
          "hovermode": "closest",
          "mapbox": {
           "style": "light"
          },
          "paper_bgcolor": "white",
          "plot_bgcolor": "#E5ECF6",
          "polar": {
           "angularaxis": {
            "gridcolor": "white",
            "linecolor": "white",
            "ticks": ""
           },
           "bgcolor": "#E5ECF6",
           "radialaxis": {
            "gridcolor": "white",
            "linecolor": "white",
            "ticks": ""
           }
          },
          "scene": {
           "xaxis": {
            "backgroundcolor": "#E5ECF6",
            "gridcolor": "white",
            "gridwidth": 2,
            "linecolor": "white",
            "showbackground": true,
            "ticks": "",
            "zerolinecolor": "white"
           },
           "yaxis": {
            "backgroundcolor": "#E5ECF6",
            "gridcolor": "white",
            "gridwidth": 2,
            "linecolor": "white",
            "showbackground": true,
            "ticks": "",
            "zerolinecolor": "white"
           },
           "zaxis": {
            "backgroundcolor": "#E5ECF6",
            "gridcolor": "white",
            "gridwidth": 2,
            "linecolor": "white",
            "showbackground": true,
            "ticks": "",
            "zerolinecolor": "white"
           }
          },
          "shapedefaults": {
           "line": {
            "color": "#2a3f5f"
           }
          },
          "ternary": {
           "aaxis": {
            "gridcolor": "white",
            "linecolor": "white",
            "ticks": ""
           },
           "baxis": {
            "gridcolor": "white",
            "linecolor": "white",
            "ticks": ""
           },
           "bgcolor": "#E5ECF6",
           "caxis": {
            "gridcolor": "white",
            "linecolor": "white",
            "ticks": ""
           }
          },
          "title": {
           "x": 0.05
          },
          "xaxis": {
           "automargin": true,
           "gridcolor": "white",
           "linecolor": "white",
           "ticks": "",
           "title": {
            "standoff": 15
           },
           "zerolinecolor": "white",
           "zerolinewidth": 2
          },
          "yaxis": {
           "automargin": true,
           "gridcolor": "white",
           "linecolor": "white",
           "ticks": "",
           "title": {
            "standoff": 15
           },
           "zerolinecolor": "white",
           "zerolinewidth": 2
          }
         }
        },
        "title": {
         "text": "Scatter Plot 3D dengan Garis Regresi Berganda"
        }
       }
      }
     },
     "metadata": {},
     "output_type": "display_data"
    }
   ],
   "source": [
    "import plotly.graph_objects as go \n",
    "import numpy as np\n",
    "import pandas as pd\n",
    "import statsmodels.api as sm\n",
    "\n",
    "np.random.seed(30)\n",
    "s1 = np.random.randint(11, 70, 30)\n",
    "s2 = np.random.randint(15, 90, 30)\n",
    "b = 5 + 3 * s1 + 8 * s2 + np.random.normal(1, 30, 30)\n",
    "\n",
    "df = pd.DataFrame({\n",
    "    \"S1\": s1,\n",
    "    \"S2\": s2,\n",
    "    \"B\": b\n",
    "})\n",
    "\n",
    "X = sm.add_constant(df[[\"S1\", \"S2\"]])\n",
    "model = sm.OLS(df[\"B\"], X).fit()\n",
    "\n",
    "koefisien = model.params\n",
    "\n",
    "scatter_plot = go.Scatter3d(\n",
    "    x=df[\"S1\"],\n",
    "    y=df[\"S2\"],\n",
    "    z=df[\"B\"],\n",
    "    mode=\"markers\",\n",
    "    \n",
    "    marker=dict(\n",
    "        size=5,\n",
    "        color=\"yellow\",\n",
    "        opacity=0.8\n",
    "    ),\n",
    "    name=\"Data\"\n",
    ")\n",
    "\n",
    "s1_grid, s2_grid = np.meshgrid(np.linspace(2, 20, 10), np.linspace(5, 25, 10))\n",
    "b_pred = koefisien[0] + koefisien[1] * s1_grid +  koefisien[2] * s2_grid\n",
    "\n",
    "regression_surface = go.Surface(\n",
    "    x=s1_grid,\n",
    "    y=s2_grid,\n",
    "    z=b_pred,\n",
    "    colorscale=\"Blues\", \n",
    "    opacity=0.5,\n",
    "    name=\"Garis Regresi\"\n",
    ")\n",
    "\n",
    "layout = go.Layout(\n",
    "    title=\"Scatter Plot 3D dengan Garis Regresi Berganda\", \n",
    "    scene=dict(\n",
    "        xaxis_title=\"X1\",\n",
    "        yaxis_title=\"X2\",\n",
    "        zaxis_title=\"B\"\n",
    "    ),\n",
    "    showlegend=True\n",
    ")\n",
    "\n",
    "fig = go.Figure(data=[scatter_plot, regression_surface], layout=layout)\n",
    "\n",
    "fig.show()"
   ]
  }
 ],
 "metadata": {
  "kernelspec": {
   "display_name": "env",
   "language": "python",
   "name": "python3"
  },
  "language_info": {
   "codemirror_mode": {
    "name": "ipython",
    "version": 3
   },
   "file_extension": ".py",
   "mimetype": "text/x-python",
   "name": "python",
   "nbconvert_exporter": "python",
   "pygments_lexer": "ipython3",
   "version": "3.11.9"
  }
 },
 "nbformat": 4,
 "nbformat_minor": 5
}
